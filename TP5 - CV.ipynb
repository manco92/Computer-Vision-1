{
 "cells": [
  {
   "cell_type": "markdown",
   "id": "14ee56fb-3f53-4056-9dfa-f8fc9b0131cc",
   "metadata": {},
   "source": [
    "## TP5  - Computer Vision"
   ]
  },
  {
   "cell_type": "code",
   "execution_count": 1,
   "id": "ce3837ff-f69b-4512-a879-b55114faa5a5",
   "metadata": {},
   "outputs": [],
   "source": [
    "import pandas as pd\n",
    "import numpy as np\n",
    "import time\n",
    "import torch\n",
    "import cv2 as cv\n",
    "import matplotlib.pyplot as plt"
   ]
  },
  {
   "cell_type": "markdown",
   "id": "41f81b3e-ff6c-4e31-809b-f2420364a5a2",
   "metadata": {},
   "source": [
    "### Implementar el detector de fondo naive usando la mediana como estimador. El algoritmo debe recibir el parámetro N (cantidad de frames utilizados para la estimación) y el intervalo de tiempo para recalcular el fondo. Se deben generar las mascaras de foreground y aplicarlas a los frames para segmentar los objetos en movimiento."
   ]
  },
  {
   "cell_type": "code",
   "execution_count": 2,
   "id": "afc3c423-95c1-448e-ab27-234bbf34b950",
   "metadata": {},
   "outputs": [],
   "source": [
    "filename = r'C:\\Users\\Leandro\\Desktop\\Inteligencia Artificial\\3er Bimestre\\Computer Vision\\vtest.avi'"
   ]
  },
  {
   "cell_type": "code",
   "execution_count": 51,
   "id": "0bf87179-ab4c-4318-926d-b121134de8e1",
   "metadata": {},
   "outputs": [],
   "source": [
    "def BG(file, n_frames, time_update, stats = False):\n",
    "\n",
    "    capture = cv.VideoCapture(file)\n",
    "    total_frames = capture.get(cv.CAP_PROP_FRAME_COUNT)\n",
    "    \n",
    "    S = time_update\n",
    "    N = n_frames\n",
    "    time_list = []\n",
    "    non_zero_list = []\n",
    "    \n",
    "    if not capture.isOpened:\n",
    "        print('Falla al abrir el archivo: ' + file)\n",
    "        exit(0)\n",
    "        \n",
    "    # Calculo la primera mediana\n",
    "    frameIds = 60 * np.random.uniform(size = N)\n",
    "    frame_list = []\n",
    "    for i in frameIds:\n",
    "        capture.set(1, i)\n",
    "        ret, frame_ = capture.read()\n",
    "        frame_list.append(frame_)\n",
    "\n",
    "    M = np.median(frame_list, axis = 0)     \n",
    "    \n",
    "    start = time.time()\n",
    "    \n",
    "    while True:\n",
    "        # Leemos un frame\n",
    "        ret, frame = capture.read()\n",
    "        if frame is None:\n",
    "            break\n",
    "        \n",
    "        start_frame = time.time()\n",
    "        # Número de frame actual\n",
    "        frame_number = int(capture.get(cv.CAP_PROP_POS_FRAMES))\n",
    "        \n",
    "        # Calculo la mediana\n",
    "        end = time.time()\n",
    "        t = end - start\n",
    "        if t > S:\n",
    "            frameIds = frame_number + np.random.uniform(-5 * S, 5 * S, size = N)\n",
    "            frameIds = np.maximum(np.minimum(frameIds, total_frames), 0).astype(int)\n",
    "            frame_list = []\n",
    "            for i in frameIds:\n",
    "                capture.set(1, i)\n",
    "                ret, frame_ = capture.read()\n",
    "                frame_list.append(frame_)\n",
    "        \n",
    "            M = np.median(frame_list, axis = 0)\n",
    "            capture.set(1, frame_number)\n",
    "            start = time.time()\n",
    "       \n",
    "        # Escribimos sobre la imagen el número de frame procesado\n",
    "        cv.rectangle(frame, (10, 2), (100,20), (255,255,255), -1)\n",
    "        cv.putText(frame, str(frame_number), (15, 15),\n",
    "                   cv.FONT_HERSHEY_SIMPLEX, 0.5 , (0,0,0))\n",
    "        cv.putText(frame, str(int(t)), (75, 15),\n",
    "                   cv.FONT_HERSHEY_SIMPLEX, 0.5 , (0,0,0))\n",
    "        \n",
    "        # Mostramos frame original e imagen binaria background/foreground\n",
    "        cv.imshow('Frame', frame)\n",
    "        #frame = cv.medianBlur(frame.astype('float32'), 5)\n",
    "        #M = cv.medianBlur(M.astype('float32'), 5)\n",
    "        #frame = cv.GaussianBlur(frame.astype('float32'), (5, 5), 1)\n",
    "        #M = cv.GaussianBlur(M.astype('float32'), (5, 5), 1)\n",
    "        gray_img = np.abs(frame.astype('float32') - M.astype('float32'))\n",
    "        gray_img = cv.medianBlur(gray_img, 3)\n",
    "        gray_img = cv.GaussianBlur(gray_img, (5, 5), 0.5)\n",
    "        gray_img = cv.cvtColor(gray_img, cv.COLOR_BGR2GRAY)\n",
    "        thresh, bg = cv.threshold(gray_img, 127, 255, cv.THRESH_BINARY)\n",
    "        #bg = cv.GaussianBlur(bg, (5, 5), 0.5)\n",
    "        cv.imshow('BG', bg)\n",
    "        end_frame = time.time()\n",
    "        time_between_frames = end_frame - start_frame\n",
    "        time_list.append(time_between_frames)\n",
    "        non_zero_list.append(np.count_nonzero(bg))\n",
    "        \n",
    "        # Corremos hasta que termine o apriete escape\n",
    "        keyboard = cv.waitKey(30)\n",
    "        if keyboard == 'q' or keyboard == 27:\n",
    "            break\n",
    "    \n",
    "    cv.destroyAllWindows()\n",
    "    capture.release()\n",
    "    \n",
    "    if stats == True:\n",
    "        return time_list, non_zero_list"
   ]
  },
  {
   "cell_type": "code",
   "execution_count": 38,
   "id": "434e8362-6607-4913-b993-a659813328bb",
   "metadata": {},
   "outputs": [],
   "source": [
    "BG(filename, 50, 40)"
   ]
  },
  {
   "cell_type": "markdown",
   "id": "824b9fcc-5500-4f08-86ce-f6d9e81d42f8",
   "metadata": {},
   "source": [
    "### Comparar con alguno de los métodos vistos en la práctica basados en mezcla de gaussianas."
   ]
  },
  {
   "cell_type": "markdown",
   "id": "4ef4a21a-a249-4198-8e53-86e18e6d6bfa",
   "metadata": {},
   "source": [
    "Vamos a comparar el algoritmo de mediana que acabamos de hacer con el algoritmo de sustracción de fondo MOG2. Para ello vamos a tomar 4 métricas:\n",
    "* promedio de tiempo de procesado entre frames\n",
    "* desvío estándar de tiempo de procesado entre frames\n",
    "* promedio de elementos distinto de cero entre frames\n",
    "* desvío estándar de elementos distinto de cero entre frames\n",
    "\n",
    "Los elementos distitos de cero son los píxeles que identifica que no son parte del fondo, o sea los blancos."
   ]
  },
  {
   "cell_type": "code",
   "execution_count": 39,
   "id": "c1dafa46-b309-47f0-b180-9e0540b2d823",
   "metadata": {},
   "outputs": [],
   "source": [
    "metodo = 'MOG2'\n",
    "#metodo = 'KNN'\n",
    "if metodo == 'MOG2':\n",
    "    backSub = cv.createBackgroundSubtractorMOG2()\n",
    "else:\n",
    "    backSub = cv.createBackgroundSubtractorKNN()\n",
    "    backSub = cv.createBackgroundSubtractorKNN(detectShadows = True)"
   ]
  },
  {
   "cell_type": "code",
   "execution_count": 61,
   "id": "36216599-23af-447e-aa2c-cf7d8612f759",
   "metadata": {},
   "outputs": [],
   "source": [
    "# Abrimos el archivo\n",
    "#-------------------\n",
    "capture = cv.VideoCapture(filename)\n",
    "time_mog = []\n",
    "nonzero_mog = []\n",
    "\n",
    "if not capture.isOpened:\n",
    "    print('Falla al abrir el archivo: ' + filename)\n",
    "    exit(0)\n",
    "\n",
    "# Corremos la sustraccion\n",
    "#------------------------\n",
    "while True:\n",
    "    # Leemos un frame\n",
    "    ret, frame = capture.read()\n",
    "    if frame is None:\n",
    "        break\n",
    "    \n",
    "    # Aplicamos la sustracción al frame leído\n",
    "    #----------------------------------------\n",
    "    # Cada frame se utiliza tanto para calcular la máscara de primer plano como para actualizar el fondo.\n",
    "    # Si se desea cambiar la tasa de aprendizaje utilizada para actualizar el modelo de fondo, es posible\n",
    "    # establecer una tasa de aprendizaje específica pasando un parámetro al método apply.\n",
    "    start = time.time()\n",
    "    fgMask = backSub.apply(frame)\n",
    "    \n",
    "    # Escribimos sobre la imagen el número de frame procesado\n",
    "    cv.rectangle(frame, (10, 2), (100,20), (255,255,255), -1)\n",
    "    cv.putText(frame, str(capture.get(cv.CAP_PROP_POS_FRAMES)), (15, 15),\n",
    "               cv.FONT_HERSHEY_SIMPLEX, 0.5 , (0,0,0))\n",
    "    \n",
    "    # mostramos frame original e imagen binaria background/foreground\n",
    "    cv.imshow('Frame', frame)\n",
    "    cv.imshow('FG Mask', fgMask)\n",
    "    end = time.time()\n",
    "    t = end - start\n",
    "    time_mog.append(t)\n",
    "    nonzero_mog.append(np.count_nonzero(fgMask))\n",
    "    \n",
    "    # Corresmos hasta que termine o apriete escape\n",
    "    keyboard = cv.waitKey(30)\n",
    "    if keyboard == 'q' or keyboard == 27:\n",
    "        break\n",
    "\n",
    "cv.destroyAllWindows()\n",
    "capture.release()"
   ]
  },
  {
   "cell_type": "code",
   "execution_count": 52,
   "id": "1e46c3c8-e0b9-457a-8db8-0bb216cb84ad",
   "metadata": {},
   "outputs": [],
   "source": [
    "time_median, nonzero_median = BG(filename, 50, 40, stats = True)"
   ]
  },
  {
   "cell_type": "code",
   "execution_count": 64,
   "id": "f3345326-6565-4dc2-9d3e-748e47f2ebfa",
   "metadata": {},
   "outputs": [],
   "source": [
    "mean_time_median = np.mean(time_median)\n",
    "std_time_median = np.std(time_median)\n",
    "mean_time_mog = np.mean(time_mog)\n",
    "std_time_mog = np.std(time_mog)"
   ]
  },
  {
   "cell_type": "code",
   "execution_count": 72,
   "id": "935dd049-967e-4fc9-9e83-77924607a4cf",
   "metadata": {},
   "outputs": [],
   "source": [
    "mean_nonzero_median = np.mean(nonzero_median)\n",
    "std_nonzero_median = np.std(nonzero_median)\n",
    "mean_nonzero_mog = np.mean(nonzero_mog)\n",
    "std_nonzero_mog = np.std(nonzero_mog)"
   ]
  },
  {
   "cell_type": "code",
   "execution_count": 75,
   "id": "a6dda534-3074-4525-80bc-c7c7d66464b4",
   "metadata": {},
   "outputs": [],
   "source": [
    "mediana = np.round([mean_time_median, std_time_median, mean_nonzero_median, std_nonzero_median], 4)\n",
    "mog = np.round([mean_time_mog, std_time_mog, mean_nonzero_mog, std_nonzero_mog], 4)"
   ]
  },
  {
   "cell_type": "code",
   "execution_count": 78,
   "id": "bff97114-8820-44f4-aed0-d48c3e7186eb",
   "metadata": {},
   "outputs": [],
   "source": [
    "rows = ['mean_time', 'std_time', 'mean_nonzero', 'std_nonzero']"
   ]
  },
  {
   "cell_type": "code",
   "execution_count": 79,
   "id": "fbf37d83-b822-4ced-9c02-bafed4b17b29",
   "metadata": {},
   "outputs": [],
   "source": [
    "table = pd.DataFrame({'LABELS': rows, 'MEDIANA': mediana, 'MOG': mog})                "
   ]
  },
  {
   "cell_type": "code",
   "execution_count": 81,
   "id": "19e1c940-3308-46a5-8c0b-4fc3d6326432",
   "metadata": {},
   "outputs": [
    {
     "data": {
      "text/html": [
       "<div>\n",
       "<style scoped>\n",
       "    .dataframe tbody tr th:only-of-type {\n",
       "        vertical-align: middle;\n",
       "    }\n",
       "\n",
       "    .dataframe tbody tr th {\n",
       "        vertical-align: top;\n",
       "    }\n",
       "\n",
       "    .dataframe thead th {\n",
       "        text-align: right;\n",
       "    }\n",
       "</style>\n",
       "<table border=\"1\" class=\"dataframe\">\n",
       "  <thead>\n",
       "    <tr style=\"text-align: right;\">\n",
       "      <th></th>\n",
       "      <th>LABELS</th>\n",
       "      <th>MEDIANA</th>\n",
       "      <th>MOG</th>\n",
       "    </tr>\n",
       "  </thead>\n",
       "  <tbody>\n",
       "    <tr>\n",
       "      <th>0</th>\n",
       "      <td>mean_time</td>\n",
       "      <td>0.0113</td>\n",
       "      <td>0.0043</td>\n",
       "    </tr>\n",
       "    <tr>\n",
       "      <th>1</th>\n",
       "      <td>std_time</td>\n",
       "      <td>0.0024</td>\n",
       "      <td>0.0010</td>\n",
       "    </tr>\n",
       "    <tr>\n",
       "      <th>2</th>\n",
       "      <td>mean_nonzero</td>\n",
       "      <td>4275.2303</td>\n",
       "      <td>13752.3937</td>\n",
       "    </tr>\n",
       "    <tr>\n",
       "      <th>3</th>\n",
       "      <td>std_nonzero</td>\n",
       "      <td>1167.6492</td>\n",
       "      <td>4378.8580</td>\n",
       "    </tr>\n",
       "  </tbody>\n",
       "</table>\n",
       "</div>"
      ],
      "text/plain": [
       "         LABELS    MEDIANA         MOG\n",
       "0     mean_time     0.0113      0.0043\n",
       "1      std_time     0.0024      0.0010\n",
       "2  mean_nonzero  4275.2303  13752.3937\n",
       "3   std_nonzero  1167.6492   4378.8580"
      ]
     },
     "execution_count": 81,
     "metadata": {},
     "output_type": "execute_result"
    }
   ],
   "source": [
    "table"
   ]
  },
  {
   "cell_type": "code",
   "execution_count": 89,
   "id": "e93b9886-1d02-4af6-8bb5-7e4fcda2875b",
   "metadata": {},
   "outputs": [
    {
     "name": "stdout",
     "output_type": "stream",
     "text": [
      "2.627906976744186\n",
      "3.2167609075936796\n"
     ]
    }
   ],
   "source": [
    "print(1/(table['MOG'][0]/table['MEDIANA'][0]))\n",
    "print((table['MOG'][2]/table['MEDIANA'][2]))"
   ]
  },
  {
   "cell_type": "markdown",
   "id": "edc3a432-46e5-4253-9b7e-055ad1e25501",
   "metadata": {},
   "source": [
    "Podemos ver que el algoritmo de MOG2 es mucho más eficiente para el cálculo entre frames (2.62 veces más rápido) e identifica 3 vece más de píxeles blancos, pero con 4 veces más de desvío estándar. Esto quiere decir que frame a frame identifica de manera variable, mientras que el de mediana, al tener menor dispersión, es más rígido e identifica"
   ]
  },
  {
   "cell_type": "code",
   "execution_count": 82,
   "id": "b5c2c90a-a0e3-4295-abb9-d0f21a59dd2c",
   "metadata": {},
   "outputs": [
    {
     "data": {
      "image/png": "[encoded data removed]",
      "text/plain": [
       "<Figure size 1440x720 with 4 Axes>"
      ]
     },
     "metadata": {
      "needs_background": "light"
     },
     "output_type": "display_data"
    }
   ],
   "source": [
    "fig, axs = plt.subplots(2, 2, figsize = (20, 10))\n",
    "\n",
    "axs[0,0].hist(time_median, bins = 30)\n",
    "axs[0,0].set_title('Histograma de tiempo entre frames del método MEDIANA')\n",
    "axs[1,0].hist(nonzero_median, bins = 30)\n",
    "axs[1,0].set_title('Histograma de elementos no cero entre frames del método MEDIANA')\n",
    "axs[0,1].hist(time_mog, bins = 30)\n",
    "axs[0,1].set_title('Histograma de tiempo entre frames del método MOG')\n",
    "axs[1,1].hist(nonzero_mog, bins = 30)\n",
    "axs[1,1].set_title('Histograma de elementos no cero entre frames del método MOG')\n",
    "plt.show()"
   ]
  },
  {
   "cell_type": "markdown",
   "id": "1d987d15-f3f0-4fdd-9836-89cf46e3f94a",
   "metadata": {},
   "source": []
  },
  {
   "cell_type": "code",
   "execution_count": null,
   "id": "7a447fe6-a4c8-430d-a1f0-6630f5de17ff",
   "metadata": {},
   "outputs": [],
   "source": []
  }
 ],
 "metadata": {
  "kernelspec": {
   "display_name": "Python 3 (ipykernel)",
   "language": "python",
   "name": "python3"
  },
  "language_info": {
   "codemirror_mode": {
    "name": "ipython",
    "version": 3
   },
   "file_extension": ".py",
   "mimetype": "text/x-python",
   "name": "python",
   "nbconvert_exporter": "python",
   "pygments_lexer": "ipython3",
   "version": "3.9.7"
  }
 },
 "nbformat": 4,
 "nbformat_minor": 5
}
